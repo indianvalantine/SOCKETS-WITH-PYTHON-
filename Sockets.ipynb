{
 "cells": [
  {
   "cell_type": "markdown",
   "metadata": {},
   "source": [
    "# Low-level networking interface:\n",
    "\n",
    "1. socket.socket(): Create a new socket using the given address family, socket type and protocol number.\n",
    "2. socket.bind(address): Bind the socket to address.\n",
    "3. socket.listen(backlog): Listen for connections made to the socket. The backlog argument specifies the maximum number of queued connections and should be at least 0; the maximum value is system-dependent (usually 5), the minimum value is forced to 0.\n",
    "4. socket.accept(): The return value is a pair (conn, address) where conn is a new socket object usable to send and receive data on the connection, and address is the address bound to the socket on the other end of the connection.\n",
    "5. At accept(), a new socket is created that is distinct from the named socket. This new socket is used solely for communication with this particular client.For TCP servers, the socket object used to receive connections is not the same socket used to perform subsequent communication with the client. In particular, the accept() system call returns a new socket object that's actually used for the connection. This allows a server to manage connections from a large number of clients simultaneously. socket.send(bytes[, flags]): Send data to the socket. The socket must be connected to a remote socket. Returns the number of bytes sent. Applications are responsible for checking that all data has been sent; if only some of the data was transmitted, the application needs to attempt delivery of the remaining data.\n",
    "6. socket.colse(): Mark the socket closed. all future operations on the socket object will fail. The remote end will receive no more data (after queued data is flushed). Sockets are automatically closed when they are garbage-collected, but it is recommended to close() them explicitly."
   ]
  },
  {
   "cell_type": "code",
   "execution_count": 14,
   "metadata": {},
   "outputs": [
    {
     "name": "stdout",
     "output_type": "stream",
     "text": [
      "192.168.0.134 GOD\n"
     ]
    }
   ],
   "source": [
    "import socket\n",
    "host_address = socket.gethostname()\n",
    "host_name = socket.gethostbyname(host_address)\n",
    "print(host_name, host_address)"
   ]
  },
  {
   "cell_type": "code",
   "execution_count": 15,
   "metadata": {},
   "outputs": [
    {
     "name": "stdout",
     "output_type": "stream",
     "text": [
      "216.58.197.36\n"
     ]
    }
   ],
   "source": [
    "import socket\n",
    "# s = socket.socket(socket.AF_INET, socket.SOCK_STREAM)\n",
    "ip = socket.gethostbyname('www.google.com')\n",
    "print (ip)"
   ]
  },
  {
   "cell_type": "code",
   "execution_count": 21,
   "metadata": {},
   "outputs": [
    {
     "name": "stdout",
     "output_type": "stream",
     "text": [
      "Socket successfully created\n",
      "the socket has successfully connected to google on port == 127.0.0.1\n"
     ]
    }
   ],
   "source": [
    "# An example script to connect to Google using socket \n",
    "# programming in Python \n",
    "import socket # for socket \n",
    "import sys \n",
    "\n",
    "try: \n",
    "    s = socket.socket(socket.AF_INET, socket.SOCK_STREAM) \n",
    "    print (\"Socket successfully created\")\n",
    "except socket.error as err: \n",
    "    print (\"socket creation failed with error %s\" %(err))\n",
    "\n",
    "# default port for socket \n",
    "port = 80\n",
    "\n",
    "try: \n",
    "    host_ip = socket.gethostbyname('127.0.0.1') \n",
    "except socket.gaierror: \n",
    "\n",
    "    # this means could not resolve the host \n",
    "    print (\"there was an error resolving the host\")\n",
    "    sys.exit() \n",
    "\n",
    "# connecting to the server \n",
    "s.connect((host_ip, port)) \n",
    "\n",
    "print (\"the socket has successfully connected to google on port == %s\" %(host_ip) )\n"
   ]
  },
  {
   "cell_type": "code",
   "execution_count": null,
   "metadata": {},
   "outputs": [],
   "source": [
    "# client connection \n",
    "import socket\n",
    "host ='127.0.0.1'\n",
    "port =  65432\n",
    "with socket.socket(socket.AF_INET, socket.SOCK_STREAM)  as c:\n",
    "    c.connect((host, port))\n",
    "    c.sendall(b, 'hello, world')\n",
    "    data =s.recv(80)\n",
    "print(\"Received\", repr(data))"
   ]
  },
  {
   "cell_type": "code",
   "execution_count": null,
   "metadata": {},
   "outputs": [],
   "source": [
    "# Sockets Server \n",
    "import socket\n",
    "host = '127.0.0.1'\n",
    "port = 65432\n",
    "with socket.socket(socket.AF_INET, socket.SOCK_STREAM)  as s:\n",
    "    s.bind((host, port))\n",
    "    s.listen()\n",
    "    conn, addr = s.accept()\n",
    "    with conn:\n",
    "        print(\"connected by\", addr)\n",
    "        while conn:\n",
    "            print('Connect by address', addr)\n",
    "            while True:\n",
    "                data = conn.recv(1024)\n",
    "                if not data:\n",
    "                    break\n",
    "                conn.sendall(data)"
   ]
  },
  {
   "cell_type": "code",
   "execution_count": null,
   "metadata": {},
   "outputs": [],
   "source": [
    "#  Server.py Local file transfer Here is the code to send a file from a local server to a local client.\n",
    "\n",
    "import socket                   # Import socket module\n",
    "\n",
    "port = 60000                    # Reserve a port for your service.\n",
    "s = socket.socket()             # Create a socket object\n",
    "host = socket.gethostname()     # Get local machine name\n",
    "s.bind((host, port))            # Bind to the port\n",
    "s.listen(5)                     # Now wait for client connection.\n",
    "\n",
    "print ('Server listening....')\n",
    "\n",
    "while True:\n",
    "    conn, addr = s.accept()     # Establish connection with client.\n",
    "    print 'Got connection from', addr\n",
    "    data = conn.recv(1024)\n",
    "    print('Server received', repr(data))\n",
    "\n",
    "    filename='mytext.txt'\n",
    "    f = open(filename,'rb')\n",
    "    l = f.read(1024)\n",
    "    while (l):\n",
    "       conn.send(l)\n",
    "       print('Sent ',repr(l))\n",
    "       l = f.read(1024)\n",
    "    f.close()\n",
    "\n",
    "    print('Done sending')\n",
    "    conn.send('Thank you for connecting')\n",
    "    conn.close()\n",
    "\n",
    "\n",
    "# client.py\n",
    "\n",
    "import socket                   # Import socket module\n",
    "\n",
    "s = socket.socket()             # Create a socket object\n",
    "host = socket.gethostname()     # Get local machine name\n",
    "port = 60000                    # Reserve a port for your service.\n",
    "\n",
    "s.connect((host, port))\n",
    "s.send(\"Hello server!\")\n",
    "\n",
    "with open('received_file', 'wb') as f:\n",
    "    print 'file opened'\n",
    "    while True:\n",
    "        print('receiving data...')\n",
    "        data = s.recv(1024)\n",
    "        print('data=%s', (data))\n",
    "        if not data:\n",
    "            break\n",
    "        # write data to a file\n",
    "        f.write(data)\n",
    "\n",
    "f.close()\n",
    "print('Successfully get the file')\n",
    "s.close()\n",
    "print('connection closed')"
   ]
  },
  {
   "cell_type": "code",
   "execution_count": null,
   "metadata": {},
   "outputs": [],
   "source": [
    "# multithread tcp file transfer on localhost\n",
    "# Our server code above can only interact with one client. If we try to connect with a second client, however, it simply won't reply to the new client. To let the server interact with multiple clients, we need to use multi-threading. Here is the new server script to accept multiple client connections:\n",
    "\n",
    "# server2.py\n",
    "import socket\n",
    "from threading import Thread\n",
    "from SocketServer import ThreadingMixIn\n",
    "\n",
    "TCP_IP = 'localhost'\n",
    "TCP_PORT = 9001\n",
    "BUFFER_SIZE = 1024\n",
    "\n",
    "class ClientThread(Thread):\n",
    "\n",
    "    def __init__(self,ip,port,sock):\n",
    "        Thread.__init__(self)\n",
    "        self.ip = ip\n",
    "        self.port = port\n",
    "        self.sock = sock\n",
    "        print \" New thread started for \"+ip+\":\"+str(port)\n",
    "\n",
    "    def run(self):\n",
    "        filename='mytext.txt'\n",
    "        f = open(filename,'rb')\n",
    "        while True:\n",
    "            l = f.read(BUFFER_SIZE)\n",
    "            while (l):\n",
    "                self.sock.send(l)\n",
    "                #print('Sent ',repr(l))\n",
    "                l = f.read(BUFFER_SIZE)\n",
    "            if not l:\n",
    "                f.close()\n",
    "                self.sock.close()\n",
    "                break\n",
    "\n",
    "tcpsock = socket.socket(socket.AF_INET, socket.SOCK_STREAM)\n",
    "tcpsock.setsockopt(socket.SOL_SOCKET, socket.SO_REUSEADDR, 1)\n",
    "tcpsock.bind((TCP_IP, TCP_PORT))\n",
    "threads = []\n",
    "\n",
    "while True:\n",
    "    tcpsock.listen(5)\n",
    "    print \"Waiting for incoming connections...\"\n",
    "    (conn, (ip,port)) = tcpsock.accept()\n",
    "    print 'Got connection from ', (ip,port)\n",
    "    newthread = ClientThread(ip,port,conn)\n",
    "    newthread.start()\n",
    "    threads.append(newthread)\n",
    "\n",
    "for t in threads:\n",
    "    t.join()\n",
    "\n",
    "\n",
    "\n",
    "# client2.py\n",
    "#!/usr/bin/env python\n",
    "\n",
    "import socket\n",
    "\n",
    "TCP_IP = 'localhost'\n",
    "TCP_PORT = 9001\n",
    "BUFFER_SIZE = 1024\n",
    "\n",
    "s = socket.socket(socket.AF_INET, socket.SOCK_STREAM)\n",
    "s.connect((TCP_IP, TCP_PORT))\n",
    "with open('received_file', 'wb') as f:\n",
    "    print 'file opened'\n",
    "    while True:\n",
    "        #print('receiving data...')\n",
    "        data = s.recv(BUFFER_SIZE)\n",
    "        print('data=%s', (data))\n",
    "        if not data:\n",
    "            f.close()\n",
    "            print 'file close()'\n",
    "            break\n",
    "        # write data to a file\n",
    "        f.write(data)\n",
    "\n",
    "print('Successfully get the file')\n",
    "s.close()\n",
    "print('connection closed')"
   ]
  }
 ],
 "metadata": {
  "kernelspec": {
   "display_name": "Python 3",
   "language": "python",
   "name": "python3"
  },
  "language_info": {
   "codemirror_mode": {
    "name": "ipython",
    "version": 3
   },
   "file_extension": ".py",
   "mimetype": "text/x-python",
   "name": "python",
   "nbconvert_exporter": "python",
   "pygments_lexer": "ipython3",
   "version": "3.6.3"
  }
 },
 "nbformat": 4,
 "nbformat_minor": 2
}
